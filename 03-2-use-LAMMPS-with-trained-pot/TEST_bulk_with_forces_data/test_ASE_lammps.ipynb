{
 "cells": [
  {
   "cell_type": "markdown",
   "metadata": {
    "toc": true
   },
   "source": [
    "<h1>Table of Contents<span class=\"tocSkip\"></span></h1>\n",
    "<div class=\"toc\"><ul class=\"toc-item\"></ul></div>"
   ]
  },
  {
   "cell_type": "code",
   "execution_count": 25,
   "metadata": {},
   "outputs": [
    {
     "name": "stdout",
     "output_type": "stream",
     "text": [
      "['/home/hari/projects/developing_ACE/ACE1project/vacancy_NEB/lammps_relax_vac/ace_Cu_EMT/03-2-use-LAMMPS-with-trained-pot/TEST_with_forcesdata', '/home/hari/miniconda3/envs/ase_env/lib/python37.zip', '/home/hari/miniconda3/envs/ase_env/lib/python3.7', '/home/hari/miniconda3/envs/ase_env/lib/python3.7/lib-dynload', '', '/home/hari/miniconda3/envs/ase_env/lib/python3.7/site-packages', '/home/hari/miniconda3/envs/ase_env/lib/python3.7/site-packages/GBpy-0.1.2-py3.7.egg', '/home/hari/miniconda3/envs/ase_env/lib/python3.7/site-packages/pyjulip-0.1-py3.7.egg', '/home/hari/miniconda3/envs/ase_env/lib/python3.7/site-packages/IPython/extensions', '/home/hari/.ipython']\n"
     ]
    }
   ],
   "source": [
    "import sys\n",
    "print(sys.path)"
   ]
  },
  {
   "cell_type": "code",
   "execution_count": 13,
   "metadata": {},
   "outputs": [],
   "source": [
    "!export LD_LIBRARY_PATH=:$LD_LIBRARY_PATH:/home/hari/lammps/src\n",
    "!export PYTHONPATH=\"${PYTHONPATH}:/home/hari/lammps/python\""
   ]
  },
  {
   "cell_type": "code",
   "execution_count": 14,
   "metadata": {},
   "outputs": [],
   "source": [
    "import lammps"
   ]
  },
  {
   "cell_type": "code",
   "execution_count": null,
   "metadata": {},
   "outputs": [],
   "source": [
    "conda install -c conda-forge lammps"
   ]
  },
  {
   "cell_type": "code",
   "execution_count": 15,
   "metadata": {},
   "outputs": [
    {
     "data": {
      "text/plain": [
       "20210730"
      ]
     },
     "execution_count": 15,
     "metadata": {},
     "output_type": "execute_result"
    }
   ],
   "source": [
    "lammps.__version__"
   ]
  },
  {
   "cell_type": "code",
   "execution_count": 29,
   "metadata": {},
   "outputs": [
    {
     "name": "stderr",
     "output_type": "stream",
     "text": [
      "/home/hari/miniconda3/envs/ase_env/lib/python3.7/site-packages/ase/calculators/lammpsrun.py:191: UserWarning: You are using an old syntax to set 'parameters'.\n",
      "Please use LAMMPSRUN.set().\n",
      "  warnings.warn(self.legacy_warn_string.format(\"parameters\"))\n"
     ]
    },
    {
     "name": "stdout",
     "output_type": "stream",
     "text": [
      "       Step     Time          Energy         fmax\n",
      "MDMin:    0 11:27:33      -14.034733        1.4511\n",
      "MDMin:    1 11:27:33      -14.079239        1.1328\n",
      "MDMin:    2 11:27:33      -14.139257        0.3933\n",
      "MDMin:    3 11:27:33      -14.154539        0.1656\n",
      "MDMin:    4 11:27:33      -14.152318        0.2206\n",
      "MDMin:    5 11:27:33      -14.144578        0.3613\n",
      "MDMin:    6 11:27:33      -14.138377        0.4344\n",
      "MDMin:    7 11:27:33      -14.114991        0.6807\n",
      "MDMin:    8 11:27:33      -14.133105        0.4920\n",
      "MDMin:    9 11:27:33      -14.124263        0.5845\n",
      "MDMin:   10 11:27:33      -14.089888        0.7803\n",
      "MDMin:   11 11:27:33      -14.081435        0.9265\n",
      "MDMin:   12 11:27:33      -13.963111        1.5781\n",
      "MDMin:   13 11:27:33      -13.437010        3.2382\n",
      "MDMin:   14 11:27:33      -10.840100        8.5566\n",
      "MDMin:   15 11:27:34      -12.689828        4.9475\n",
      "MDMin:   16 11:27:34      -13.912140        1.3758\n",
      "MDMin:   17 11:27:34      -14.018035        0.9779\n",
      "MDMin:   18 11:27:34      -14.135209        0.3170\n",
      "MDMin:   19 11:27:34      -14.116647        0.6765\n",
      "MDMin:   20 11:27:34      -14.087651        0.9228\n",
      "MDMin:   21 11:27:34      -13.986572        1.4913\n",
      "MDMin:   22 11:27:34      -13.561875        2.9310\n",
      "MDMin:   23 11:27:34      -11.468623        7.8444\n",
      "MDMin:   24 11:27:34      -13.048352        4.0455\n",
      "MDMin:   25 11:27:34      -12.259135        5.9514\n",
      "MDMin:   26 11:27:34      -13.493848        2.7890\n",
      "MDMin:   27 11:27:34      -13.127617        3.9186\n",
      "MDMin:   28 11:27:34      -13.714653        2.0774\n",
      "MDMin:   29 11:27:34      -13.520508        2.7682\n",
      "MDMin:   30 11:27:34      -12.276114        5.3865\n",
      "MDMin:   31 11:27:34       -7.071704        9.7971\n",
      "MDMin:   32 11:27:34       -7.890585       18.6909\n",
      "MDMin:   33 11:27:34       -4.030272       38.6613\n",
      "MDMin:   34 11:27:34       65.448163      351.2232\n",
      "MDMin:   35 11:27:34       10.903018       36.0899\n",
      "MDMin:   36 11:27:34     1161.999492     3143.3274\n",
      "MDMin:   37 11:27:34       49.080229      246.2312\n",
      "MDMin:   38 11:27:34       -1.750555       26.7192\n",
      "MDMin:   39 11:27:34       -7.041007       10.6360\n",
      "MDMin:   40 11:27:34       -1.937650       15.3237\n",
      "MDMin:   41 11:27:34      187.856262      687.2070\n",
      "MDMin:   42 11:27:34      587.215534     2332.1786\n",
      "MDMin:   43 11:27:34      168.724176      646.1744\n",
      "MDMin:   44 11:27:35        7.545202       48.7004\n",
      "MDMin:   45 11:27:35       60.573284      138.2353\n",
      "MDMin:   46 11:27:35      172.585266      467.5572\n",
      "MDMin:   47 11:27:35       65.120005      319.6467\n",
      "MDMin:   48 11:27:35       39.436838      193.0136\n",
      "MDMin:   49 11:27:35       45.014224      120.5566\n",
      "MDMin:   50 11:27:35      168.440585      640.2581\n",
      "MDMin:   51 11:27:35       11.627396       72.3025\n",
      "MDMin:   52 11:27:35       27.634333      105.2041\n",
      "MDMin:   53 11:27:35      256.322757     1199.0346\n",
      "MDMin:   54 11:27:35      460.079142     1929.5295\n",
      "MDMin:   55 11:27:35     2740.677661    14315.3796\n",
      "MDMin:   56 11:27:35        0.703968       23.9216\n",
      "MDMin:   57 11:27:35      900.173895     5040.9965\n",
      "MDMin:   58 11:27:35       45.890107      263.6558\n",
      "MDMin:   59 11:27:35      259.950793      874.0560\n",
      "MDMin:   60 11:27:35      940.679430     4292.6366\n",
      "MDMin:   61 11:27:35      245.511143     1213.9480\n",
      "MDMin:   62 11:27:35       44.725685      203.6550\n",
      "MDMin:   63 11:27:35     3027.785681    10593.8529\n",
      "MDMin:   64 11:27:35     1708.289604     6618.6105\n",
      "MDMin:   65 11:27:35       71.520297      238.5062\n",
      "MDMin:   66 11:27:35      470.721503     1296.0992\n",
      "MDMin:   67 11:27:35      123.264363      615.6854\n",
      "MDMin:   68 11:27:35      366.076291     1852.9714\n",
      "MDMin:   69 11:27:35      156.588941      454.7479\n",
      "MDMin:   70 11:27:35       77.388609      315.6798\n",
      "MDMin:   71 11:27:35       25.204687      141.8357\n",
      "MDMin:   72 11:27:35       67.710314      280.9750\n",
      "MDMin:   73 11:27:35       32.604927       60.1096\n",
      "MDMin:   74 11:27:35       89.774025      176.9278\n",
      "MDMin:   75 11:27:35       78.704612      338.5419\n",
      "MDMin:   76 11:27:36        7.201500       69.2885\n",
      "MDMin:   77 11:27:36      110.518217      391.9432\n",
      "MDMin:   78 11:27:36       -1.781673       22.4923\n",
      "MDMin:   79 11:27:36       15.122691       72.2000\n",
      "MDMin:   80 11:27:36       47.274434      156.6996\n",
      "MDMin:   81 11:27:36      307.181553     1531.3780\n",
      "MDMin:   82 11:27:36       11.401839       89.3629\n",
      "MDMin:   83 11:27:36     2128.974559    12189.6755\n",
      "MDMin:   84 11:27:36       -2.233342       22.9641\n",
      "MDMin:   85 11:27:36      660.746631     3628.7643\n",
      "MDMin:   86 11:27:36      127.674704      626.2576\n",
      "MDMin:   87 11:27:36       18.639609       70.2166\n",
      "MDMin:   88 11:27:36      466.611737     1281.2940\n",
      "MDMin:   89 11:27:36       12.851726       49.2143\n",
      "MDMin:   90 11:27:36        5.605390       41.7187\n",
      "MDMin:   91 11:27:36     3743.917599    15573.4379\n",
      "MDMin:   92 11:27:36       74.610411      158.0133\n",
      "MDMin:   93 11:27:36       97.866521      350.2131\n",
      "MDMin:   94 11:27:36      969.239185     5411.1769\n",
      "MDMin:   95 11:27:36      120.643792      382.8664\n",
      "MDMin:   96 11:27:36      180.756516      841.8606\n",
      "MDMin:   97 11:27:36     4167.893084    22542.9844\n",
      "MDMin:   98 11:27:36      122.517858      560.1641\n",
      "MDMin:   99 11:27:36      199.040175      981.2517\n"
     ]
    },
    {
     "ename": "RuntimeError",
     "evalue": "Failed to retrieve any thermo_style-output",
     "output_type": "error",
     "traceback": [
      "\u001b[0;31m---------------------------------------------------------------------------\u001b[0m",
      "\u001b[0;31mRuntimeError\u001b[0m                              Traceback (most recent call last)",
      "\u001b[0;32m/tmp/ipykernel_9714/4165529458.py\u001b[0m in \u001b[0;36m<module>\u001b[0;34m\u001b[0m\n\u001b[1;32m     14\u001b[0m \u001b[0mCu\u001b[0m\u001b[0;34m.\u001b[0m\u001b[0mcalc\u001b[0m \u001b[0;34m=\u001b[0m \u001b[0mlammps\u001b[0m\u001b[0;34m\u001b[0m\u001b[0;34m\u001b[0m\u001b[0m\n\u001b[1;32m     15\u001b[0m \u001b[0moptimizer\u001b[0m \u001b[0;34m=\u001b[0m \u001b[0mMDMin\u001b[0m\u001b[0;34m(\u001b[0m\u001b[0mCu\u001b[0m\u001b[0;34m)\u001b[0m\u001b[0;34m\u001b[0m\u001b[0;34m\u001b[0m\u001b[0m\n\u001b[0;32m---> 16\u001b[0;31m \u001b[0moptimizer\u001b[0m\u001b[0;34m.\u001b[0m\u001b[0mrun\u001b[0m\u001b[0;34m(\u001b[0m\u001b[0;34m)\u001b[0m\u001b[0;34m\u001b[0m\u001b[0;34m\u001b[0m\u001b[0m\n\u001b[0m\u001b[1;32m     17\u001b[0m \u001b[0;31m# = Atom('H', position=Ni.cell.diagonal()/2)\u001b[0m\u001b[0;34m\u001b[0m\u001b[0;34m\u001b[0m\u001b[0;34m\u001b[0m\u001b[0m\n\u001b[1;32m     18\u001b[0m \u001b[0;31m#iH = Ni + H\u001b[0m\u001b[0;34m\u001b[0m\u001b[0;34m\u001b[0m\u001b[0;34m\u001b[0m\u001b[0m\n",
      "\u001b[0;32m~/miniconda3/envs/ase_env/lib/python3.7/site-packages/ase/optimize/optimize.py\u001b[0m in \u001b[0;36mrun\u001b[0;34m(self, fmax, steps)\u001b[0m\n\u001b[1;32m    267\u001b[0m         \u001b[0;32mif\u001b[0m \u001b[0msteps\u001b[0m\u001b[0;34m:\u001b[0m\u001b[0;34m\u001b[0m\u001b[0;34m\u001b[0m\u001b[0m\n\u001b[1;32m    268\u001b[0m             \u001b[0mself\u001b[0m\u001b[0;34m.\u001b[0m\u001b[0mmax_steps\u001b[0m \u001b[0;34m=\u001b[0m \u001b[0msteps\u001b[0m\u001b[0;34m\u001b[0m\u001b[0;34m\u001b[0m\u001b[0m\n\u001b[0;32m--> 269\u001b[0;31m         \u001b[0;32mreturn\u001b[0m \u001b[0mDynamics\u001b[0m\u001b[0;34m.\u001b[0m\u001b[0mrun\u001b[0m\u001b[0;34m(\u001b[0m\u001b[0mself\u001b[0m\u001b[0;34m)\u001b[0m\u001b[0;34m\u001b[0m\u001b[0;34m\u001b[0m\u001b[0m\n\u001b[0m\u001b[1;32m    270\u001b[0m \u001b[0;34m\u001b[0m\u001b[0m\n\u001b[1;32m    271\u001b[0m     \u001b[0;32mdef\u001b[0m \u001b[0mconverged\u001b[0m\u001b[0;34m(\u001b[0m\u001b[0mself\u001b[0m\u001b[0;34m,\u001b[0m \u001b[0mforces\u001b[0m\u001b[0;34m=\u001b[0m\u001b[0;32mNone\u001b[0m\u001b[0;34m)\u001b[0m\u001b[0;34m:\u001b[0m\u001b[0;34m\u001b[0m\u001b[0;34m\u001b[0m\u001b[0m\n",
      "\u001b[0;32m~/miniconda3/envs/ase_env/lib/python3.7/site-packages/ase/optimize/optimize.py\u001b[0m in \u001b[0;36mrun\u001b[0;34m(self)\u001b[0m\n\u001b[1;32m    154\u001b[0m         *steps*.\"\"\"\n\u001b[1;32m    155\u001b[0m \u001b[0;34m\u001b[0m\u001b[0m\n\u001b[0;32m--> 156\u001b[0;31m         \u001b[0;32mfor\u001b[0m \u001b[0mconverged\u001b[0m \u001b[0;32min\u001b[0m \u001b[0mDynamics\u001b[0m\u001b[0;34m.\u001b[0m\u001b[0mirun\u001b[0m\u001b[0;34m(\u001b[0m\u001b[0mself\u001b[0m\u001b[0;34m)\u001b[0m\u001b[0;34m:\u001b[0m\u001b[0;34m\u001b[0m\u001b[0;34m\u001b[0m\u001b[0m\n\u001b[0m\u001b[1;32m    157\u001b[0m             \u001b[0;32mpass\u001b[0m\u001b[0;34m\u001b[0m\u001b[0;34m\u001b[0m\u001b[0m\n\u001b[1;32m    158\u001b[0m         \u001b[0;32mreturn\u001b[0m \u001b[0mconverged\u001b[0m\u001b[0;34m\u001b[0m\u001b[0;34m\u001b[0m\u001b[0m\n",
      "\u001b[0;32m~/miniconda3/envs/ase_env/lib/python3.7/site-packages/ase/optimize/optimize.py\u001b[0m in \u001b[0;36mirun\u001b[0;34m(self)\u001b[0m\n\u001b[1;32m    141\u001b[0m \u001b[0;34m\u001b[0m\u001b[0m\n\u001b[1;32m    142\u001b[0m             \u001b[0;31m# log the step\u001b[0m\u001b[0;34m\u001b[0m\u001b[0;34m\u001b[0m\u001b[0;34m\u001b[0m\u001b[0m\n\u001b[0;32m--> 143\u001b[0;31m             \u001b[0mself\u001b[0m\u001b[0;34m.\u001b[0m\u001b[0mlog\u001b[0m\u001b[0;34m(\u001b[0m\u001b[0;34m)\u001b[0m\u001b[0;34m\u001b[0m\u001b[0;34m\u001b[0m\u001b[0m\n\u001b[0m\u001b[1;32m    144\u001b[0m             \u001b[0mself\u001b[0m\u001b[0;34m.\u001b[0m\u001b[0mcall_observers\u001b[0m\u001b[0;34m(\u001b[0m\u001b[0;34m)\u001b[0m\u001b[0;34m\u001b[0m\u001b[0;34m\u001b[0m\u001b[0m\n\u001b[1;32m    145\u001b[0m \u001b[0;34m\u001b[0m\u001b[0m\n",
      "\u001b[0;32m~/miniconda3/envs/ase_env/lib/python3.7/site-packages/ase/optimize/optimize.py\u001b[0m in \u001b[0;36mlog\u001b[0;34m(self, forces)\u001b[0m\n\u001b[1;32m    281\u001b[0m     \u001b[0;32mdef\u001b[0m \u001b[0mlog\u001b[0m\u001b[0;34m(\u001b[0m\u001b[0mself\u001b[0m\u001b[0;34m,\u001b[0m \u001b[0mforces\u001b[0m\u001b[0;34m=\u001b[0m\u001b[0;32mNone\u001b[0m\u001b[0;34m)\u001b[0m\u001b[0;34m:\u001b[0m\u001b[0;34m\u001b[0m\u001b[0;34m\u001b[0m\u001b[0m\n\u001b[1;32m    282\u001b[0m         \u001b[0;32mif\u001b[0m \u001b[0mforces\u001b[0m \u001b[0;32mis\u001b[0m \u001b[0;32mNone\u001b[0m\u001b[0;34m:\u001b[0m\u001b[0;34m\u001b[0m\u001b[0;34m\u001b[0m\u001b[0m\n\u001b[0;32m--> 283\u001b[0;31m             \u001b[0mforces\u001b[0m \u001b[0;34m=\u001b[0m \u001b[0mself\u001b[0m\u001b[0;34m.\u001b[0m\u001b[0matoms\u001b[0m\u001b[0;34m.\u001b[0m\u001b[0mget_forces\u001b[0m\u001b[0;34m(\u001b[0m\u001b[0;34m)\u001b[0m\u001b[0;34m\u001b[0m\u001b[0;34m\u001b[0m\u001b[0m\n\u001b[0m\u001b[1;32m    284\u001b[0m         \u001b[0mfmax\u001b[0m \u001b[0;34m=\u001b[0m \u001b[0msqrt\u001b[0m\u001b[0;34m(\u001b[0m\u001b[0;34m(\u001b[0m\u001b[0mforces\u001b[0m \u001b[0;34m**\u001b[0m \u001b[0;36m2\u001b[0m\u001b[0;34m)\u001b[0m\u001b[0;34m.\u001b[0m\u001b[0msum\u001b[0m\u001b[0;34m(\u001b[0m\u001b[0maxis\u001b[0m\u001b[0;34m=\u001b[0m\u001b[0;36m1\u001b[0m\u001b[0;34m)\u001b[0m\u001b[0;34m.\u001b[0m\u001b[0mmax\u001b[0m\u001b[0;34m(\u001b[0m\u001b[0;34m)\u001b[0m\u001b[0;34m)\u001b[0m\u001b[0;34m\u001b[0m\u001b[0;34m\u001b[0m\u001b[0m\n\u001b[1;32m    285\u001b[0m         e = self.atoms.get_potential_energy(\n",
      "\u001b[0;32m~/miniconda3/envs/ase_env/lib/python3.7/site-packages/ase/atoms.py\u001b[0m in \u001b[0;36mget_forces\u001b[0;34m(self, apply_constraint, md)\u001b[0m\n\u001b[1;32m    786\u001b[0m         \u001b[0;32mif\u001b[0m \u001b[0mself\u001b[0m\u001b[0;34m.\u001b[0m\u001b[0m_calc\u001b[0m \u001b[0;32mis\u001b[0m \u001b[0;32mNone\u001b[0m\u001b[0;34m:\u001b[0m\u001b[0;34m\u001b[0m\u001b[0;34m\u001b[0m\u001b[0m\n\u001b[1;32m    787\u001b[0m             \u001b[0;32mraise\u001b[0m \u001b[0mRuntimeError\u001b[0m\u001b[0;34m(\u001b[0m\u001b[0;34m'Atoms object has no calculator.'\u001b[0m\u001b[0;34m)\u001b[0m\u001b[0;34m\u001b[0m\u001b[0;34m\u001b[0m\u001b[0m\n\u001b[0;32m--> 788\u001b[0;31m         \u001b[0mforces\u001b[0m \u001b[0;34m=\u001b[0m \u001b[0mself\u001b[0m\u001b[0;34m.\u001b[0m\u001b[0m_calc\u001b[0m\u001b[0;34m.\u001b[0m\u001b[0mget_forces\u001b[0m\u001b[0;34m(\u001b[0m\u001b[0mself\u001b[0m\u001b[0;34m)\u001b[0m\u001b[0;34m\u001b[0m\u001b[0;34m\u001b[0m\u001b[0m\n\u001b[0m\u001b[1;32m    789\u001b[0m \u001b[0;34m\u001b[0m\u001b[0m\n\u001b[1;32m    790\u001b[0m         \u001b[0;32mif\u001b[0m \u001b[0mapply_constraint\u001b[0m\u001b[0;34m:\u001b[0m\u001b[0;34m\u001b[0m\u001b[0;34m\u001b[0m\u001b[0m\n",
      "\u001b[0;32m~/miniconda3/envs/ase_env/lib/python3.7/site-packages/ase/calculators/abc.py\u001b[0m in \u001b[0;36mget_forces\u001b[0;34m(self, atoms)\u001b[0m\n\u001b[1;32m     21\u001b[0m \u001b[0;34m\u001b[0m\u001b[0m\n\u001b[1;32m     22\u001b[0m     \u001b[0;32mdef\u001b[0m \u001b[0mget_forces\u001b[0m\u001b[0;34m(\u001b[0m\u001b[0mself\u001b[0m\u001b[0;34m,\u001b[0m \u001b[0matoms\u001b[0m\u001b[0;34m=\u001b[0m\u001b[0;32mNone\u001b[0m\u001b[0;34m)\u001b[0m\u001b[0;34m:\u001b[0m\u001b[0;34m\u001b[0m\u001b[0;34m\u001b[0m\u001b[0m\n\u001b[0;32m---> 23\u001b[0;31m         \u001b[0;32mreturn\u001b[0m \u001b[0mself\u001b[0m\u001b[0;34m.\u001b[0m\u001b[0mget_property\u001b[0m\u001b[0;34m(\u001b[0m\u001b[0;34m'forces'\u001b[0m\u001b[0;34m,\u001b[0m \u001b[0matoms\u001b[0m\u001b[0;34m)\u001b[0m\u001b[0;34m\u001b[0m\u001b[0;34m\u001b[0m\u001b[0m\n\u001b[0m\u001b[1;32m     24\u001b[0m \u001b[0;34m\u001b[0m\u001b[0m\n\u001b[1;32m     25\u001b[0m     \u001b[0;32mdef\u001b[0m \u001b[0mget_stress\u001b[0m\u001b[0;34m(\u001b[0m\u001b[0mself\u001b[0m\u001b[0;34m,\u001b[0m \u001b[0matoms\u001b[0m\u001b[0;34m=\u001b[0m\u001b[0;32mNone\u001b[0m\u001b[0;34m)\u001b[0m\u001b[0;34m:\u001b[0m\u001b[0;34m\u001b[0m\u001b[0;34m\u001b[0m\u001b[0m\n",
      "\u001b[0;32m~/miniconda3/envs/ase_env/lib/python3.7/site-packages/ase/calculators/calculator.py\u001b[0m in \u001b[0;36mget_property\u001b[0;34m(self, name, atoms, allow_calculation)\u001b[0m\n\u001b[1;32m    735\u001b[0m             \u001b[0;32mif\u001b[0m \u001b[0;32mnot\u001b[0m \u001b[0mallow_calculation\u001b[0m\u001b[0;34m:\u001b[0m\u001b[0;34m\u001b[0m\u001b[0;34m\u001b[0m\u001b[0m\n\u001b[1;32m    736\u001b[0m                 \u001b[0;32mreturn\u001b[0m \u001b[0;32mNone\u001b[0m\u001b[0;34m\u001b[0m\u001b[0;34m\u001b[0m\u001b[0m\n\u001b[0;32m--> 737\u001b[0;31m             \u001b[0mself\u001b[0m\u001b[0;34m.\u001b[0m\u001b[0mcalculate\u001b[0m\u001b[0;34m(\u001b[0m\u001b[0matoms\u001b[0m\u001b[0;34m,\u001b[0m \u001b[0;34m[\u001b[0m\u001b[0mname\u001b[0m\u001b[0;34m]\u001b[0m\u001b[0;34m,\u001b[0m \u001b[0msystem_changes\u001b[0m\u001b[0;34m)\u001b[0m\u001b[0;34m\u001b[0m\u001b[0;34m\u001b[0m\u001b[0m\n\u001b[0m\u001b[1;32m    738\u001b[0m \u001b[0;34m\u001b[0m\u001b[0m\n\u001b[1;32m    739\u001b[0m         \u001b[0;32mif\u001b[0m \u001b[0mname\u001b[0m \u001b[0;32mnot\u001b[0m \u001b[0;32min\u001b[0m \u001b[0mself\u001b[0m\u001b[0;34m.\u001b[0m\u001b[0mresults\u001b[0m\u001b[0;34m:\u001b[0m\u001b[0;34m\u001b[0m\u001b[0;34m\u001b[0m\u001b[0m\n",
      "\u001b[0;32m~/miniconda3/envs/ase_env/lib/python3.7/site-packages/ase/calculators/lammpsrun.py\u001b[0m in \u001b[0;36mcalculate\u001b[0;34m(self, atoms, properties, system_changes)\u001b[0m\n\u001b[1;32m    319\u001b[0m             \u001b[0msystem_changes\u001b[0m \u001b[0;34m=\u001b[0m \u001b[0mall_changes\u001b[0m\u001b[0;34m\u001b[0m\u001b[0;34m\u001b[0m\u001b[0m\n\u001b[1;32m    320\u001b[0m         \u001b[0mCalculator\u001b[0m\u001b[0;34m.\u001b[0m\u001b[0mcalculate\u001b[0m\u001b[0;34m(\u001b[0m\u001b[0mself\u001b[0m\u001b[0;34m,\u001b[0m \u001b[0matoms\u001b[0m\u001b[0;34m,\u001b[0m \u001b[0mproperties\u001b[0m\u001b[0;34m,\u001b[0m \u001b[0msystem_changes\u001b[0m\u001b[0;34m)\u001b[0m\u001b[0;34m\u001b[0m\u001b[0;34m\u001b[0m\u001b[0m\n\u001b[0;32m--> 321\u001b[0;31m         \u001b[0mself\u001b[0m\u001b[0;34m.\u001b[0m\u001b[0mrun\u001b[0m\u001b[0;34m(\u001b[0m\u001b[0;34m)\u001b[0m\u001b[0;34m\u001b[0m\u001b[0;34m\u001b[0m\u001b[0m\n\u001b[0m\u001b[1;32m    322\u001b[0m \u001b[0;34m\u001b[0m\u001b[0m\n\u001b[1;32m    323\u001b[0m     \u001b[0;32mdef\u001b[0m \u001b[0m_lmp_alive\u001b[0m\u001b[0;34m(\u001b[0m\u001b[0mself\u001b[0m\u001b[0;34m)\u001b[0m\u001b[0;34m:\u001b[0m\u001b[0;34m\u001b[0m\u001b[0;34m\u001b[0m\u001b[0m\n",
      "\u001b[0;32m~/miniconda3/envs/ase_env/lib/python3.7/site-packages/ase/calculators/lammpsrun.py\u001b[0m in \u001b[0;36mrun\u001b[0;34m(self, set_atoms)\u001b[0m\n\u001b[1;32m    486\u001b[0m         \u001b[0;31m# A few sanity checks\u001b[0m\u001b[0;34m\u001b[0m\u001b[0;34m\u001b[0m\u001b[0;34m\u001b[0m\u001b[0m\n\u001b[1;32m    487\u001b[0m         \u001b[0;32mif\u001b[0m \u001b[0mlen\u001b[0m\u001b[0;34m(\u001b[0m\u001b[0mself\u001b[0m\u001b[0;34m.\u001b[0m\u001b[0mthermo_content\u001b[0m\u001b[0;34m)\u001b[0m \u001b[0;34m==\u001b[0m \u001b[0;36m0\u001b[0m\u001b[0;34m:\u001b[0m\u001b[0;34m\u001b[0m\u001b[0;34m\u001b[0m\u001b[0m\n\u001b[0;32m--> 488\u001b[0;31m             \u001b[0;32mraise\u001b[0m \u001b[0mRuntimeError\u001b[0m\u001b[0;34m(\u001b[0m\u001b[0;34m\"Failed to retrieve any thermo_style-output\"\u001b[0m\u001b[0;34m)\u001b[0m\u001b[0;34m\u001b[0m\u001b[0;34m\u001b[0m\u001b[0m\n\u001b[0m\u001b[1;32m    489\u001b[0m         \u001b[0;32mif\u001b[0m \u001b[0mint\u001b[0m\u001b[0;34m(\u001b[0m\u001b[0mself\u001b[0m\u001b[0;34m.\u001b[0m\u001b[0mthermo_content\u001b[0m\u001b[0;34m[\u001b[0m\u001b[0;34m-\u001b[0m\u001b[0;36m1\u001b[0m\u001b[0;34m]\u001b[0m\u001b[0;34m[\u001b[0m\u001b[0;34m\"atoms\"\u001b[0m\u001b[0;34m]\u001b[0m\u001b[0;34m)\u001b[0m \u001b[0;34m!=\u001b[0m \u001b[0mlen\u001b[0m\u001b[0;34m(\u001b[0m\u001b[0mself\u001b[0m\u001b[0;34m.\u001b[0m\u001b[0matoms\u001b[0m\u001b[0;34m)\u001b[0m\u001b[0;34m:\u001b[0m\u001b[0;34m\u001b[0m\u001b[0;34m\u001b[0m\u001b[0m\n\u001b[1;32m    490\u001b[0m             \u001b[0;31m# This obviously shouldn't happen, but if prism.fold_...() fails,\u001b[0m\u001b[0;34m\u001b[0m\u001b[0;34m\u001b[0m\u001b[0;34m\u001b[0m\u001b[0m\n",
      "\u001b[0;31mRuntimeError\u001b[0m: Failed to retrieve any thermo_style-output"
     ]
    }
   ],
   "source": [
    "from ase import Atom, Atoms\n",
    "from ase.build import bulk\n",
    "from ase.calculators.lammpsrun import LAMMPS\n",
    "from ase.optimize import MDMin\n",
    "parameters = {'pair_style': 'eam/alloy',\n",
    "              'pair_coeff': ['* * Cu.eam.alloy Cu']}\n",
    "\n",
    "files = ['Cu.eam.alloy']\n",
    "\n",
    "Cu= bulk('Cu', cubic=True,a=3.6)\n",
    "Cu.positions[0]+= 0.1\n",
    "lammps = LAMMPS(parameters=parameters, files=files)\n",
    "\n",
    "Cu.calc = lammps\n",
    "optimizer = MDMin(Cu)\n",
    "optimizer.run()\n",
    "# = Atom('H', position=Ni.cell.diagonal()/2)\n",
    "#iH = Ni + H\n",
    "\n",
    "# print(\"Energy \", Cu.get_potential_energy())"
   ]
  },
  {
   "cell_type": "code",
   "execution_count": 17,
   "metadata": {},
   "outputs": [
    {
     "data": {
      "text/plain": [
       "array([[ 0.00000000e+00,  2.08166817e-17,  3.46944695e-17],\n",
       "       [ 0.00000000e+00,  1.04083409e-17,  3.46944695e-17],\n",
       "       [ 0.00000000e+00,  2.94902991e-17,  5.72458747e-17],\n",
       "       [-4.16333634e-17, -2.77555756e-17,  3.46944695e-17]])"
      ]
     },
     "execution_count": 17,
     "metadata": {},
     "output_type": "execute_result"
    }
   ],
   "source": [
    "Cu.get_forces()"
   ]
  },
  {
   "cell_type": "code",
   "execution_count": 19,
   "metadata": {},
   "outputs": [
    {
     "data": {
      "text/plain": [
       "array([-3.61041536e-03, -3.61041536e-03, -3.61041536e-03, -5.30971376e-18,\n",
       "       -3.83479327e-18, -2.65485688e-18])"
      ]
     },
     "execution_count": 19,
     "metadata": {},
     "output_type": "execute_result"
    }
   ],
   "source": [
    "Cu.get_stress()"
   ]
  },
  {
   "cell_type": "code",
   "execution_count": 9,
   "metadata": {},
   "outputs": [
    {
     "data": {
      "text/plain": [
       "<ase.calculators.lammpsrun.LAMMPS at 0x7fafec79ef10>"
      ]
     },
     "execution_count": 9,
     "metadata": {},
     "output_type": "execute_result"
    }
   ],
   "source": [
    "Cu.get_calculator()"
   ]
  }
 ],
 "metadata": {
  "kernelspec": {
   "display_name": "ase_env",
   "language": "python",
   "name": "ase_env"
  },
  "language_info": {
   "codemirror_mode": {
    "name": "ipython",
    "version": 3
   },
   "file_extension": ".py",
   "mimetype": "text/x-python",
   "name": "python",
   "nbconvert_exporter": "python",
   "pygments_lexer": "ipython3",
   "version": "3.7.11"
  },
  "toc": {
   "base_numbering": 1,
   "nav_menu": {},
   "number_sections": true,
   "sideBar": true,
   "skip_h1_title": false,
   "title_cell": "Table of Contents",
   "title_sidebar": "Contents",
   "toc_cell": true,
   "toc_position": {},
   "toc_section_display": true,
   "toc_window_display": false
  }
 },
 "nbformat": 4,
 "nbformat_minor": 4
}
