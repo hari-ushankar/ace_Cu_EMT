{
 "cells": [
  {
   "cell_type": "markdown",
   "metadata": {
    "toc": true
   },
   "source": [
    "<h1>Table of Contents<span class=\"tocSkip\"></span></h1>\n",
    "<div class=\"toc\"><ul class=\"toc-item\"></ul></div>"
   ]
  },
  {
   "cell_type": "code",
   "execution_count": 25,
   "metadata": {},
   "outputs": [
    {
     "name": "stdout",
     "output_type": "stream",
     "text": [
      "['/home/hari/projects/developing_ACE/ACE1project/vacancy_NEB/lammps_relax_vac/ace_Cu_EMT/03-2-use-LAMMPS-with-trained-pot/TEST_with_forcesdata', '/home/hari/miniconda3/envs/ase_env/lib/python37.zip', '/home/hari/miniconda3/envs/ase_env/lib/python3.7', '/home/hari/miniconda3/envs/ase_env/lib/python3.7/lib-dynload', '', '/home/hari/miniconda3/envs/ase_env/lib/python3.7/site-packages', '/home/hari/miniconda3/envs/ase_env/lib/python3.7/site-packages/GBpy-0.1.2-py3.7.egg', '/home/hari/miniconda3/envs/ase_env/lib/python3.7/site-packages/pyjulip-0.1-py3.7.egg', '/home/hari/miniconda3/envs/ase_env/lib/python3.7/site-packages/IPython/extensions', '/home/hari/.ipython']\n"
     ]
    }
   ],
   "source": [
    "import sys\n",
    "print(sys.path)"
   ]
  },
  {
   "cell_type": "code",
   "execution_count": 13,
   "metadata": {},
   "outputs": [],
   "source": [
    "!export LD_LIBRARY_PATH=:$LD_LIBRARY_PATH:/home/hari/lammps/src\n",
    "!export PYTHONPATH=\"${PYTHONPATH}:/home/hari/lammps/python\""
   ]
  },
  {
   "cell_type": "code",
   "execution_count": 14,
   "metadata": {},
   "outputs": [],
   "source": [
    "import lammps"
   ]
  },
  {
   "cell_type": "code",
   "execution_count": null,
   "metadata": {},
   "outputs": [],
   "source": [
    "conda install -c conda-forge lammps"
   ]
  },
  {
   "cell_type": "code",
   "execution_count": 15,
   "metadata": {},
   "outputs": [
    {
     "data": {
      "text/plain": [
       "20210730"
      ]
     },
     "execution_count": 15,
     "metadata": {},
     "output_type": "execute_result"
    }
   ],
   "source": [
    "lammps.__version__"
   ]
  },
  {
   "cell_type": "code",
   "execution_count": 28,
   "metadata": {},
   "outputs": [
    {
     "name": "stderr",
     "output_type": "stream",
     "text": [
      "/home/hari/miniconda3/envs/ase_env/lib/python3.7/site-packages/ase/calculators/lammpsrun.py:191: UserWarning: You are using an old syntax to set 'parameters'.\n",
      "Please use LAMMPSRUN.set().\n",
      "  warnings.warn(self.legacy_warn_string.format(\"parameters\"))\n"
     ]
    },
    {
     "name": "stdout",
     "output_type": "stream",
     "text": [
      "       Step     Time          Energy         fmax\n",
      "MDMin:    0 11:27:26      -14.156808        0.0000\n"
     ]
    },
    {
     "data": {
      "text/plain": [
       "True"
      ]
     },
     "execution_count": 28,
     "metadata": {},
     "output_type": "execute_result"
    }
   ],
   "source": [
    "from ase import Atom, Atoms\n",
    "from ase.build import bulk\n",
    "from ase.calculators.lammpsrun import LAMMPS\n",
    "from ase.optimize import MDMin\n",
    "parameters = {'pair_style': 'eam/alloy',\n",
    "              'pair_coeff': ['* * Cu.eam.alloy Cu']}\n",
    "\n",
    "files = ['Cu.eam.alloy']\n",
    "\n",
    "Cu= bulk('Cu', cubic=True,a=3.6)\n",
    "Cu.positions[0]+= 0.1\n",
    "lammps = LAMMPS(parameters=parameters, files=files)\n",
    "\n",
    "Cu.calc = lammps\n",
    "optimizer = MDMin(Cu)\n",
    "optimizer.run()\n",
    "# = Atom('H', position=Ni.cell.diagonal()/2)\n",
    "#iH = Ni + H\n",
    "\n",
    "# print(\"Energy \", Cu.get_potential_energy())"
   ]
  },
  {
   "cell_type": "code",
   "execution_count": 17,
   "metadata": {},
   "outputs": [
    {
     "data": {
      "text/plain": [
       "array([[ 0.00000000e+00,  2.08166817e-17,  3.46944695e-17],\n",
       "       [ 0.00000000e+00,  1.04083409e-17,  3.46944695e-17],\n",
       "       [ 0.00000000e+00,  2.94902991e-17,  5.72458747e-17],\n",
       "       [-4.16333634e-17, -2.77555756e-17,  3.46944695e-17]])"
      ]
     },
     "execution_count": 17,
     "metadata": {},
     "output_type": "execute_result"
    }
   ],
   "source": [
    "Cu.get_forces()"
   ]
  },
  {
   "cell_type": "code",
   "execution_count": 19,
   "metadata": {},
   "outputs": [
    {
     "data": {
      "text/plain": [
       "array([-3.61041536e-03, -3.61041536e-03, -3.61041536e-03, -5.30971376e-18,\n",
       "       -3.83479327e-18, -2.65485688e-18])"
      ]
     },
     "execution_count": 19,
     "metadata": {},
     "output_type": "execute_result"
    }
   ],
   "source": [
    "Cu.get_stress()"
   ]
  },
  {
   "cell_type": "code",
   "execution_count": 9,
   "metadata": {},
   "outputs": [
    {
     "data": {
      "text/plain": [
       "<ase.calculators.lammpsrun.LAMMPS at 0x7fafec79ef10>"
      ]
     },
     "execution_count": 9,
     "metadata": {},
     "output_type": "execute_result"
    }
   ],
   "source": [
    "Cu.get_calculator()"
   ]
  }
 ],
 "metadata": {
  "kernelspec": {
   "display_name": "ase_env",
   "language": "python",
   "name": "ase_env"
  },
  "language_info": {
   "codemirror_mode": {
    "name": "ipython",
    "version": 3
   },
   "file_extension": ".py",
   "mimetype": "text/x-python",
   "name": "python",
   "nbconvert_exporter": "python",
   "pygments_lexer": "ipython3",
   "version": "3.7.11"
  },
  "toc": {
   "base_numbering": 1,
   "nav_menu": {},
   "number_sections": true,
   "sideBar": true,
   "skip_h1_title": false,
   "title_cell": "Table of Contents",
   "title_sidebar": "Contents",
   "toc_cell": true,
   "toc_position": {},
   "toc_section_display": true,
   "toc_window_display": false
  }
 },
 "nbformat": 4,
 "nbformat_minor": 4
}
