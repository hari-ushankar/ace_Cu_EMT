{
 "cells": [
  {
   "cell_type": "markdown",
   "metadata": {
    "toc": true
   },
   "source": [
    "<h1>Table of Contents<span class=\"tocSkip\"></span></h1>\n",
    "<div class=\"toc\"><ul class=\"toc-item\"></ul></div>"
   ]
  },
  {
   "cell_type": "code",
   "execution_count": 12,
   "metadata": {},
   "outputs": [
    {
     "name": "stderr",
     "output_type": "stream",
     "text": [
      "/home/hari/miniconda3/envs/ase_env/lib/python3.7/site-packages/ase/calculators/lammpsrun.py:191: UserWarning: You are using an old syntax to set 'parameters'.\n",
      "Please use LAMMPSRUN.set().\n",
      "  warnings.warn(self.legacy_warn_string.format(\"parameters\"))\n"
     ]
    },
    {
     "name": "stdout",
     "output_type": "stream",
     "text": [
      "Energy  -11.98202996455904\n",
      "forces: \n",
      " [[ 0.00000000e+00  2.77555756e-17 -2.25514052e-17]\n",
      " [ 0.00000000e+00 -5.55111512e-17 -1.11022302e-16]\n",
      " [ 0.00000000e+00 -5.55111512e-17 -2.77555756e-16]\n",
      " [-1.11022302e-16  0.00000000e+00 -1.11022302e-16]]\n",
      "Stress: \n",
      " [1.26595258e-01 1.26595258e-01 1.26595258e-01 7.45024173e-18\n",
      " 5.63802077e-18 2.41629461e-18]\n"
     ]
    }
   ],
   "source": [
    "from ase import Atom, Atoms\n",
    "from ase.build import bulk\n",
    "from ase.calculators.lammpsrun import LAMMPS\n",
    "from ase.optimize import MDMin\n",
    "parameters = {'pair_style': 'eam/alloy',\n",
    "              'pair_coeff': ['* * Cu.eam.alloy Cu']}\n",
    "\n",
    "files = ['Cu.eam.alloy']\n",
    "\n",
    "Cu= bulk('Cu', cubic=True,a=4.1)\n",
    "#Cu.positions[0]+= 0.1\n",
    "lammps = LAMMPS(parameters=parameters, files=files)\n",
    "\n",
    "Cu.calc = lammps\n",
    "# optimizer = MDMin(Cu)\n",
    "# optimizer.run()\n",
    "# = Atom('H', position=Ni.cell.diagonal()/2)\n",
    "#iH = Ni + H\n",
    "\n",
    "print(\"Energy \", Cu.get_potential_energy())\n",
    "print(\"forces: \\n\", Cu.get_forces())\n",
    "print(\"Stress: \\n\", Cu.get_stress())"
   ]
  },
  {
   "cell_type": "code",
   "execution_count": 13,
   "metadata": {},
   "outputs": [
    {
     "name": "stdout",
     "output_type": "stream",
     "text": [
      "bulk.lmp       dump3_300.out  lmp_dump.xyz     run.sh\r\n",
      "Cu.eam.alloy   dump3_316.out  log.lammps       test_ASE_lammps.ipynb\r\n",
      "dump3_0.out    dump.cfg       potential.inp    trivial.py\r\n",
      "dump3_100.out  dump.out       potential.table\r\n",
      "dump3_200.out  in\t      potential.yace\r\n"
     ]
    }
   ],
   "source": [
    "!ls"
   ]
  },
  {
   "cell_type": "code",
   "execution_count": 16,
   "metadata": {},
   "outputs": [],
   "source": [
    "# write to lammps dump to process it in LAMMPS:\n",
    "from ase.io import write\n",
    "Cu.write('bulk2.lmp',format='lammps-data')"
   ]
  },
  {
   "cell_type": "code",
   "execution_count": 20,
   "metadata": {},
   "outputs": [
    {
     "name": "stdout",
     "output_type": "stream",
     "text": [
      "-0.12660131211406464\n"
     ]
    }
   ],
   "source": [
    "# go from bars to eV/ang3\n",
    "out_press = (-202827.962137943/10000)/160.21\n",
    "print(out_press)"
   ]
  }
 ],
 "metadata": {
  "kernelspec": {
   "display_name": "ase_env",
   "language": "python",
   "name": "ase_env"
  },
  "language_info": {
   "codemirror_mode": {
    "name": "ipython",
    "version": 3
   },
   "file_extension": ".py",
   "mimetype": "text/x-python",
   "name": "python",
   "nbconvert_exporter": "python",
   "pygments_lexer": "ipython3",
   "version": "3.7.11"
  },
  "toc": {
   "base_numbering": 1,
   "nav_menu": {},
   "number_sections": true,
   "sideBar": true,
   "skip_h1_title": false,
   "title_cell": "Table of Contents",
   "title_sidebar": "Contents",
   "toc_cell": true,
   "toc_position": {},
   "toc_section_display": true,
   "toc_window_display": false
  }
 },
 "nbformat": 4,
 "nbformat_minor": 4
}
